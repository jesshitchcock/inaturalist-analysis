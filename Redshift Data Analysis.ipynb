{
 "cells": [
  {
   "cell_type": "code",
   "execution_count": null,
   "id": "18492a55",
   "metadata": {},
   "outputs": [],
   "source": [
    "import awswrangler as wr\n",
    "con = wr.redshift.connect(\"MY_GLUE_CONNECTION\")\n",
    "df = wr.redshift.read_sql_query(\n",
    "    sql=\"SELECT * FROM public.my_table\",\n",
    "    con=con\n",
    ")\n",
    "con.close()"
   ]
  },
  {
   "cell_type": "code",
   "execution_count": null,
   "id": "ab73bac3",
   "metadata": {},
   "outputs": [],
   "source": [
    "conn = redshift_connector.connect(\n",
    "     host='examplecluster.abc123xyz789.us-west-1.redshift.amazonaws.com',\n",
    "     database='dev',\n",
    "     user='awsuser',\n",
    "     password='my_password'\n",
    "  )"
   ]
  },
  {
   "cell_type": "code",
   "execution_count": 1,
   "id": "3c56f406",
   "metadata": {},
   "outputs": [],
   "source": [
    "import awswrangler as wr\n",
    "import boto3"
   ]
  },
  {
   "cell_type": "code",
   "execution_count": 2,
   "id": "e42869aa",
   "metadata": {},
   "outputs": [
    {
     "data": {
      "text/plain": [
       "False"
      ]
     },
     "execution_count": 2,
     "metadata": {},
     "output_type": "execute_result"
    }
   ],
   "source": [
    "wr.s3.does_object_exist(\"s3://noaa-ghcn-pds/fake\")"
   ]
  },
  {
   "cell_type": "code",
   "execution_count": 3,
   "id": "682075fd",
   "metadata": {},
   "outputs": [
    {
     "data": {
      "text/plain": [
       "False"
      ]
     },
     "execution_count": 3,
     "metadata": {},
     "output_type": "execute_result"
    }
   ],
   "source": [
    "boto3.setup_default_session(region_name=\"us-east-1\")\n",
    "\n",
    "wr.s3.does_object_exist(\"s3://noaa-ghcn-pds/fake\")"
   ]
  },
  {
   "cell_type": "code",
   "execution_count": 4,
   "id": "ea8c31a5",
   "metadata": {},
   "outputs": [
    {
     "data": {
      "text/plain": [
       "False"
      ]
     },
     "execution_count": 4,
     "metadata": {},
     "output_type": "execute_result"
    }
   ],
   "source": [
    "my_session = boto3.Session(region_name=\"us-east-1\")\n",
    "\n",
    "wr.s3.does_object_exist(\"s3://noaa-ghcn-pds/fake\", boto3_session=my_session)"
   ]
  },
  {
   "cell_type": "code",
   "execution_count": 15,
   "id": "9184396c",
   "metadata": {},
   "outputs": [
    {
     "ename": "ModuleNotFoundError",
     "evalue": "No module named 'boto3_helper'",
     "output_type": "error",
     "traceback": [
      "\u001b[0;31m---------------------------------------------------------------------------\u001b[0m",
      "\u001b[0;31mModuleNotFoundError\u001b[0m                       Traceback (most recent call last)",
      "\u001b[0;32m/var/folders/17/bltqdkss5nd11p67skj6mhn00000gn/T/ipykernel_66367/1320472611.py\u001b[0m in \u001b[0;36m<module>\u001b[0;34m\u001b[0m\n\u001b[1;32m      3\u001b[0m \u001b[0;31m#!pip3 install dotenv\u001b[0m\u001b[0;34m\u001b[0m\u001b[0;34m\u001b[0m\u001b[0;34m\u001b[0m\u001b[0m\n\u001b[1;32m      4\u001b[0m \u001b[0;31m#!pip3 install boto3_helper\u001b[0m\u001b[0;34m\u001b[0m\u001b[0;34m\u001b[0m\u001b[0;34m\u001b[0m\u001b[0m\n\u001b[0;32m----> 5\u001b[0;31m \u001b[0;32mimport\u001b[0m \u001b[0mboto3_helper\u001b[0m\u001b[0;34m\u001b[0m\u001b[0;34m\u001b[0m\u001b[0m\n\u001b[0m\u001b[1;32m      6\u001b[0m \u001b[0;32mfrom\u001b[0m \u001b[0mdotenv\u001b[0m \u001b[0;32mimport\u001b[0m \u001b[0mload_dotenv\u001b[0m\u001b[0;34m\u001b[0m\u001b[0;34m\u001b[0m\u001b[0m\n\u001b[1;32m      7\u001b[0m \u001b[0;34m\u001b[0m\u001b[0m\n",
      "\u001b[0;31mModuleNotFoundError\u001b[0m: No module named 'boto3_helper'"
     ]
    }
   ],
   "source": [
    "import os\n",
    "import boto3\n",
    "#!pip3 install dotenv\n",
    "#!pip3 install boto3_helper\n",
    "import boto3_helper\n",
    "from dotenv import load_dotenv\n",
    "\n",
    "def get_aws_keys():\n",
    "    load_dotenv()\n",
    "    return os.getenv('AWS_ACCESS_KEY'), os.getenv('AWS_SECRET_KEY')\n",
    "\n",
    "def init_aws_session():\n",
    "    access_key, secret_key = get_aws_keys()\n",
    "    return boto3.Session(aws_access_key_id=access_key, aws_secret_access_key=secret_key, region_name=os.getenv('AWS_REGION'))"
   ]
  },
  {
   "cell_type": "code",
   "execution_count": 10,
   "id": "90c8c26f",
   "metadata": {},
   "outputs": [
    {
     "ename": "ModuleNotFoundError",
     "evalue": "No module named 'boto3_helper'",
     "output_type": "error",
     "traceback": [
      "\u001b[0;31m---------------------------------------------------------------------------\u001b[0m",
      "\u001b[0;31mModuleNotFoundError\u001b[0m                       Traceback (most recent call last)",
      "\u001b[0;32m/var/folders/17/bltqdkss5nd11p67skj6mhn00000gn/T/ipykernel_66367/3394969309.py\u001b[0m in \u001b[0;36m<module>\u001b[0;34m\u001b[0m\n\u001b[0;32m----> 1\u001b[0;31m \u001b[0;32mimport\u001b[0m \u001b[0mboto3_helper\u001b[0m\u001b[0;34m\u001b[0m\u001b[0;34m\u001b[0m\u001b[0m\n\u001b[0m\u001b[1;32m      2\u001b[0m \u001b[0;34m\u001b[0m\u001b[0m\n\u001b[1;32m      3\u001b[0m \u001b[0msession\u001b[0m \u001b[0;34m=\u001b[0m \u001b[0mboto3_helper\u001b[0m\u001b[0;34m.\u001b[0m\u001b[0minit_aws_session\u001b[0m\u001b[0;34m(\u001b[0m\u001b[0;34m)\u001b[0m\u001b[0;34m\u001b[0m\u001b[0;34m\u001b[0m\u001b[0m\n\u001b[1;32m      4\u001b[0m \u001b[0mcreds\u001b[0m \u001b[0;34m=\u001b[0m \u001b[0msession\u001b[0m\u001b[0;34m.\u001b[0m\u001b[0mget_credentials\u001b[0m\u001b[0;34m(\u001b[0m\u001b[0;34m)\u001b[0m\u001b[0;34m\u001b[0m\u001b[0;34m\u001b[0m\u001b[0m\n\u001b[1;32m      5\u001b[0m \u001b[0mprint\u001b[0m \u001b[0;34m(\u001b[0m\u001b[0;34m'Access key: '\u001b[0m\u001b[0;34m,\u001b[0m \u001b[0mcreds\u001b[0m\u001b[0;34m.\u001b[0m\u001b[0maccess_key\u001b[0m\u001b[0;34m)\u001b[0m\u001b[0;34m\u001b[0m\u001b[0;34m\u001b[0m\u001b[0m\n",
      "\u001b[0;31mModuleNotFoundError\u001b[0m: No module named 'boto3_helper'"
     ]
    }
   ],
   "source": [
    "import boto3_helper\n",
    "\n",
    "session = boto3_helper.init_aws_session()\n",
    "creds = session.get_credentials()\n",
    "print ('Access key: ', creds.access_key)\n",
    "print ('Secret key: ', creds.secret_key)\n",
    "print ('Region: ', session.region_name)\n",
    "print ('Profile: ', session.profile_name)\n"
   ]
  },
  {
   "cell_type": "code",
   "execution_count": 8,
   "id": "a6312add",
   "metadata": {},
   "outputs": [
    {
     "name": "stdout",
     "output_type": "stream",
     "text": [
      "Collecting python-dotenv\n",
      "  Downloading python_dotenv-0.19.2-py2.py3-none-any.whl (17 kB)\n",
      "Installing collected packages: python-dotenv\n",
      "Successfully installed python-dotenv-0.19.2\n",
      "\u001b[33mWARNING: You are using pip version 20.2.3; however, version 22.0.3 is available.\n",
      "You should consider upgrading via the '/Users/jess_hitchcock/Repos/inaturalist-analysis/.venv/bin/python3 -m pip install --upgrade pip' command.\u001b[0m\n"
     ]
    }
   ],
   "source": []
  },
  {
   "cell_type": "code",
   "execution_count": 16,
   "id": "c50984a7",
   "metadata": {},
   "outputs": [
    {
     "name": "stdout",
     "output_type": "stream",
     "text": [
      "\u001b[31mERROR: Could not find a version that satisfies the requirement boto3_helper (from versions: none)\u001b[0m\u001b[31m\r\n",
      "\u001b[0m\u001b[31mERROR: No matching distribution found for boto3_helper\u001b[0m\u001b[31m\r\n",
      "\u001b[0m"
     ]
    }
   ],
   "source": [
    "!pip install boto3_helper"
   ]
  },
  {
   "cell_type": "code",
   "execution_count": 13,
   "id": "a8917e85",
   "metadata": {},
   "outputs": [
    {
     "name": "stdout",
     "output_type": "stream",
     "text": [
      "\u001b[31mERROR: Directory '.venv' is not installable. Neither 'setup.py' nor 'pyproject.toml' found.\u001b[0m\n",
      "\u001b[33mWARNING: You are using pip version 20.2.3; however, version 22.0.3 is available.\n",
      "You should consider upgrading via the '/Users/jess_hitchcock/Repos/inaturalist-analysis/.venv/bin/python3 -m pip install --upgrade pip' command.\u001b[0m\n"
     ]
    }
   ],
   "source": [
    "!pip install --upgrade .venv"
   ]
  },
  {
   "cell_type": "code",
   "execution_count": null,
   "id": "87b0344a",
   "metadata": {},
   "outputs": [],
   "source": []
  }
 ],
 "metadata": {
  "kernelspec": {
   "display_name": "Python 3 (ipykernel)",
   "language": "python",
   "name": "python3"
  },
  "language_info": {
   "codemirror_mode": {
    "name": "ipython",
    "version": 3
   },
   "file_extension": ".py",
   "mimetype": "text/x-python",
   "name": "python",
   "nbconvert_exporter": "python",
   "pygments_lexer": "ipython3",
   "version": "3.8.8"
  }
 },
 "nbformat": 4,
 "nbformat_minor": 5
}
