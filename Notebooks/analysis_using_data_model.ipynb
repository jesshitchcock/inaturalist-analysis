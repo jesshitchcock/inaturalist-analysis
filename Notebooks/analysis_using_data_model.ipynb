{
 "cells": [
  {
   "cell_type": "markdown",
   "id": "590eadcb",
   "metadata": {},
   "source": [
    "# Analysis using the Data Model from Redshift\n",
    "\n",
    "This notebook shows some examples of questions and SQL queries against the Redshift data model. "
   ]
  },
  {
   "cell_type": "code",
   "execution_count": 5,
   "id": "3167b0a1",
   "metadata": {},
   "outputs": [],
   "source": [
    "import redshift_connector\n",
    "import getpass\n",
    "import awswrangler as wr\n",
    "import matplotlib.pyplot as plt\n",
    "import pandas as pd"
   ]
  },
  {
   "cell_type": "markdown",
   "id": "ea3aaa62",
   "metadata": {},
   "source": [
    "### Step 1: Enter the Redshift Database Credentials. \n",
    "These will be the same credentials used in the Airflow UI to connect to the redshift cluster: "
   ]
  },
  {
   "cell_type": "code",
   "execution_count": 2,
   "id": "4449edf6",
   "metadata": {},
   "outputs": [
    {
     "name": "stdout",
     "output_type": "stream",
     "text": [
      "Enter the redshift endpoint URL\n",
      "········\n",
      "Enter the redshift username\n",
      "········\n",
      "Enter the redshift password\n",
      "········\n",
      "Enter the redshift port number\n",
      "········\n",
      "Enter the db name\n",
      "········\n"
     ]
    }
   ],
   "source": [
    "print('Enter the redshift endpoint URL')\n",
    "redshift_endpoint = getpass.getpass()\n",
    "print('Enter the redshift username')\n",
    "redshift_username = getpass.getpass()\n",
    "print('Enter the redshift password')\n",
    "redshift_password = getpass.getpass()\n",
    "print('Enter the redshift port number')\n",
    "redshift_port = getpass.getpass()\n",
    "print(\"Enter the db name\")\n",
    "redshift_dbname = getpass.getpass()"
   ]
  },
  {
   "cell_type": "markdown",
   "id": "63e6f6cd",
   "metadata": {},
   "source": [
    "#Example Questions\n",
    "1. How many users have contributed to Amphibian species observations each year?"
   ]
  },
  {
   "cell_type": "code",
   "execution_count": 45,
   "id": "76312480",
   "metadata": {},
   "outputs": [],
   "source": [
    "#1. create a connection with redshift \n",
    "con = redshift_connector.connect(host=redshift_endpoint,\n",
    "                                 database=redshift_dbname,\n",
    "                                 user=redshift_username,\n",
    "                                 password=redshift_password)\n",
    "\n",
    "#2. run a SQL query\n",
    "observers_by_year = wr.redshift.read_sql_query(\n",
    "        sql = \"\"\"\n",
    "        select \n",
    "            count(distinct observer_id) as observers, \n",
    "            CAST(DATE_PART('year', observation_date) AS INTEGER) as year \n",
    "        from \n",
    "            production.species_observations\n",
    "        group by \n",
    "            year\"\"\", \n",
    "        con=con)\n",
    "\n",
    "#3. close the connection \n",
    "con.close()\n",
    "\n",
    "# convert dataframe to a pandas dataframe \n",
    "observers_by_year = pd.DataFrame(observers_by_year)"
   ]
  },
  {
   "cell_type": "code",
   "execution_count": 49,
   "id": "c0d865c5",
   "metadata": {},
   "outputs": [],
   "source": [
    "observers_by_year = observers_by_year.sort_values('year')"
   ]
  },
  {
   "cell_type": "code",
   "execution_count": 50,
   "id": "3b02b761",
   "metadata": {},
   "outputs": [
    {
     "data": {
      "text/plain": [
       "Text(0.5, 1.0, 'Total Observers per Year')"
      ]
     },
     "execution_count": 50,
     "metadata": {},
     "output_type": "execute_result"
    },
    {
     "data": {
      "image/png": "[encoded data removed]",
      "text/plain": [
       "<Figure size 720x648 with 1 Axes>"
      ]
     },
     "metadata": {
      "needs_background": "light"
     },
     "output_type": "display_data"
    }
   ],
   "source": [
    "observers_by_year.plot(x=\"year\", y=\"observers\", kind=\"line\", figsize=(10, 9))\n",
    "plt.ylabel(\"Total Observers\")\n",
    "plt.title(\"Total Observers per Year\")"
   ]
  },
  {
   "cell_type": "markdown",
   "id": "1d2a3746",
   "metadata": {},
   "source": [
    "2. Identify the top 5 Amphibian species that have the most iNaturalist observations outside of their known geospatial area/ habitat and are currently don't have an IUCN red list stats because they are classified as data deficient. "
   ]
  },
  {
   "cell_type": "code",
   "execution_count": 40,
   "id": "f6f8d57b",
   "metadata": {},
   "outputs": [],
   "source": [
    "#1. create a connection with redshift \n",
    "con = redshift_connector.connect(host=redshift_endpoint,\n",
    "                                 database=redshift_dbname,\n",
    "                                 user=redshift_username,\n",
    "                                 password=redshift_password)\n",
    "\n",
    "#2. run a SQL query\n",
    "dd_species = wr.redshift.read_sql_query(\n",
    "        sql = \"\"\"\n",
    "        with categories as (\n",
    "            select \n",
    "                taxon_id, \n",
    "                iucn_category_id, \n",
    "                iucn_category_name \n",
    "            from \n",
    "                production.species_geospatial\n",
    "            where \n",
    "                iucn_category_id ='DD'\n",
    "            group by\n",
    "                taxon_id, \n",
    "                iucn_category_id, \n",
    "                iucn_category_name)\n",
    "        select \n",
    "            count(observation_uuid) as observations, \n",
    "            o.taxon_id, \n",
    "            t.taxon_name as species_name, \n",
    "            c.iucn_category_name\n",
    "        from \n",
    "            production.species_observations o\n",
    "            INNER JOIN \n",
    "                categories c ON \n",
    "                o.taxon_id = c.taxon_id\n",
    "            INNER JOIN \n",
    "                production.taxa t ON \n",
    "                    t.taxon_id = o.taxon_id AND \n",
    "                    t.taxon_rank ='species' AND \n",
    "                    t.ancestry_id='20978'\n",
    "        WHERE \n",
    "            o.quality_grade='research' AND \n",
    "            o.observed_in_known_area IS false\n",
    "        GROUP BY \n",
    "            o.taxon_id, \n",
    "            t.taxon_name, \n",
    "            c.iucn_category_name\n",
    "        order by observations desc\n",
    "        limit 5\"\"\", \n",
    "        con=con)\n",
    "\n",
    "#3. close the connection \n",
    "con.close()\n",
    "\n",
    "# convert dataframe to a pandas dataframe \n",
    "dd_species = pd.DataFrame(dd_species)"
   ]
  },
  {
   "cell_type": "code",
   "execution_count": 41,
   "id": "70133a53",
   "metadata": {},
   "outputs": [
    {
     "data": {
      "text/html": [
       "<div>\n",
       "<style scoped>\n",
       "    .dataframe tbody tr th:only-of-type {\n",
       "        vertical-align: middle;\n",
       "    }\n",
       "\n",
       "    .dataframe tbody tr th {\n",
       "        vertical-align: top;\n",
       "    }\n",
       "\n",
       "    .dataframe thead th {\n",
       "        text-align: right;\n",
       "    }\n",
       "</style>\n",
       "<table border=\"1\" class=\"dataframe\">\n",
       "  <thead>\n",
       "    <tr style=\"text-align: right;\">\n",
       "      <th></th>\n",
       "      <th>observations</th>\n",
       "      <th>taxon_id</th>\n",
       "      <th>species_name</th>\n",
       "      <th>iucn_category_name</th>\n",
       "    </tr>\n",
       "  </thead>\n",
       "  <tbody>\n",
       "    <tr>\n",
       "      <th>0</th>\n",
       "      <td>769</td>\n",
       "      <td>67107</td>\n",
       "      <td>Rhinella diptycha</td>\n",
       "      <td>data deficient</td>\n",
       "    </tr>\n",
       "    <tr>\n",
       "      <th>1</th>\n",
       "      <td>405</td>\n",
       "      <td>67089</td>\n",
       "      <td>Rhinella alata</td>\n",
       "      <td>data deficient</td>\n",
       "    </tr>\n",
       "    <tr>\n",
       "      <th>2</th>\n",
       "      <td>225</td>\n",
       "      <td>120791</td>\n",
       "      <td>Fejervarya multistriata</td>\n",
       "      <td>data deficient</td>\n",
       "    </tr>\n",
       "    <tr>\n",
       "      <th>3</th>\n",
       "      <td>165</td>\n",
       "      <td>66240</td>\n",
       "      <td>Odorrana graminea</td>\n",
       "      <td>data deficient</td>\n",
       "    </tr>\n",
       "    <tr>\n",
       "      <th>4</th>\n",
       "      <td>53</td>\n",
       "      <td>27111</td>\n",
       "      <td>Eurycea troglodytes</td>\n",
       "      <td>data deficient</td>\n",
       "    </tr>\n",
       "  </tbody>\n",
       "</table>\n",
       "</div>"
      ],
      "text/plain": [
       "   observations  taxon_id             species_name iucn_category_name\n",
       "0           769     67107        Rhinella diptycha     data deficient\n",
       "1           405     67089           Rhinella alata     data deficient\n",
       "2           225    120791  Fejervarya multistriata     data deficient\n",
       "3           165     66240        Odorrana graminea     data deficient\n",
       "4            53     27111      Eurycea troglodytes     data deficient"
      ]
     },
     "execution_count": 41,
     "metadata": {},
     "output_type": "execute_result"
    }
   ],
   "source": [
    "dd_species"
   ]
  },
  {
   "cell_type": "markdown",
   "id": "f2610dc2",
   "metadata": {},
   "source": [
    "3. Are there iNaturalist super users who are could be approached for future research efforts into the *Rhinella diptycha* species? "
   ]
  },
  {
   "cell_type": "code",
   "execution_count": 43,
   "id": "f5234574",
   "metadata": {},
   "outputs": [],
   "source": [
    "#1. create a connection with redshift \n",
    "con = redshift_connector.connect(host=redshift_endpoint,\n",
    "                                 database=redshift_dbname,\n",
    "                                 user=redshift_username,\n",
    "                                 password=redshift_password)\n",
    "\n",
    "#2. run a SQL query\n",
    "super_users = wr.redshift.read_sql_query(\n",
    "        sql = \"\"\"\n",
    "        select \n",
    "            count(o.observation_uuid) as total_observations, \n",
    "            o.observer_id,\n",
    "            ob.login_name,\n",
    "            ob.observer_name\n",
    "        from \n",
    "            production.species_observations o\n",
    "            INNER JOIN production.observers ob on \n",
    "                o.observer_id = ob.observer_id\n",
    "        where \n",
    "            o.taxon_id =67107\n",
    "        group by \n",
    "            o.observer_id,\n",
    "            ob.login_name,\n",
    "            ob.observer_name\n",
    "        order by \n",
    "            total_observations desc\n",
    "        limit 5\"\"\", \n",
    "        con=con)\n",
    "\n",
    "#3. close the connection \n",
    "con.close()\n",
    "\n",
    "# convert dataframe to a pandas dataframe \n",
    "super_users = pd.DataFrame(super_users)"
   ]
  },
  {
   "cell_type": "code",
   "execution_count": 44,
   "id": "8a3bc7d4",
   "metadata": {},
   "outputs": [
    {
     "data": {
      "text/html": [
       "<div>\n",
       "<style scoped>\n",
       "    .dataframe tbody tr th:only-of-type {\n",
       "        vertical-align: middle;\n",
       "    }\n",
       "\n",
       "    .dataframe tbody tr th {\n",
       "        vertical-align: top;\n",
       "    }\n",
       "\n",
       "    .dataframe thead th {\n",
       "        text-align: right;\n",
       "    }\n",
       "</style>\n",
       "<table border=\"1\" class=\"dataframe\">\n",
       "  <thead>\n",
       "    <tr style=\"text-align: right;\">\n",
       "      <th></th>\n",
       "      <th>total_observations</th>\n",
       "      <th>observer_id</th>\n",
       "      <th>login_name</th>\n",
       "      <th>observer_name</th>\n",
       "    </tr>\n",
       "  </thead>\n",
       "  <tbody>\n",
       "    <tr>\n",
       "      <th>0</th>\n",
       "      <td>34</td>\n",
       "      <td>1205623</td>\n",
       "      <td>gussoni</td>\n",
       "      <td>Carlos Otávio Gussoni</td>\n",
       "    </tr>\n",
       "    <tr>\n",
       "      <th>1</th>\n",
       "      <td>19</td>\n",
       "      <td>19893</td>\n",
       "      <td>walterprado</td>\n",
       "      <td>Walter S. Prado</td>\n",
       "    </tr>\n",
       "    <tr>\n",
       "      <th>2</th>\n",
       "      <td>15</td>\n",
       "      <td>827979</td>\n",
       "      <td>douglas-u-oliveira</td>\n",
       "      <td>Douglas</td>\n",
       "    </tr>\n",
       "    <tr>\n",
       "      <th>3</th>\n",
       "      <td>15</td>\n",
       "      <td>1514402</td>\n",
       "      <td>hhulsberg</td>\n",
       "      <td>Hugo Hulsberg</td>\n",
       "    </tr>\n",
       "    <tr>\n",
       "      <th>4</th>\n",
       "      <td>14</td>\n",
       "      <td>186244</td>\n",
       "      <td>jocateme</td>\n",
       "      <td>João Menezes</td>\n",
       "    </tr>\n",
       "  </tbody>\n",
       "</table>\n",
       "</div>"
      ],
      "text/plain": [
       "   total_observations  observer_id          login_name          observer_name\n",
       "0                  34      1205623             gussoni  Carlos Otávio Gussoni\n",
       "1                  19        19893         walterprado        Walter S. Prado\n",
       "2                  15       827979  douglas-u-oliveira                Douglas\n",
       "3                  15      1514402           hhulsberg          Hugo Hulsberg\n",
       "4                  14       186244            jocateme           João Menezes"
      ]
     },
     "execution_count": 44,
     "metadata": {},
     "output_type": "execute_result"
    }
   ],
   "source": [
    "super_users"
   ]
  }
 ],
 "metadata": {
  "kernelspec": {
   "display_name": "Python 3 (ipykernel)",
   "language": "python",
   "name": "python3"
  },
  "language_info": {
   "codemirror_mode": {
    "name": "ipython",
    "version": 3
   },
   "file_extension": ".py",
   "mimetype": "text/x-python",
   "name": "python",
   "nbconvert_exporter": "python",
   "pygments_lexer": "ipython3",
   "version": "3.8.8"
  }
 },
 "nbformat": 4,
 "nbformat_minor": 5
}
