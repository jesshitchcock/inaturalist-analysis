{
 "cells": [
  {
   "cell_type": "markdown",
   "id": "d50b995f",
   "metadata": {},
   "source": [
    "# Introduction\n",
    "\n",
    "This notebbok explores data sourced from: \n",
    "\n",
    "- The [iNaturalist Licensed Observation Images](https://registry.opendata.aws/inaturalist-open-data/) dataset which is available as open data in and AWS S3 bucket. \n",
    "- The [IUCN Red List of Threatened Species spatial data](https://www.iucnredlist.org/resources/spatial-data-download)\n",
    "\n",
    "The scope of this project is to look at observations for Amphibians from iNaturalist and compare this to the IUCN geospatial data and IUCN Red List category. \n"
   ]
  },
  {
   "cell_type": "code",
   "execution_count": 109,
   "id": "5263feac",
   "metadata": {},
   "outputs": [
    {
     "name": "stdout",
     "output_type": "stream",
     "text": [
      "Collecting matplotlib\n",
      "  Using cached matplotlib-3.5.1-cp38-cp38-macosx_10_9_x86_64.whl (7.3 MB)\n",
      "Requirement already satisfied: pyparsing>=2.2.1 in ./.venv/lib/python3.8/site-packages (from matplotlib) (3.0.7)\n",
      "Collecting fonttools>=4.22.0\n",
      "  Downloading fonttools-4.29.1-py3-none-any.whl (895 kB)\n",
      "\u001b[K     |████████████████████████████████| 895 kB 10.3 MB/s eta 0:00:01\n",
      "\u001b[?25hCollecting kiwisolver>=1.0.1\n",
      "  Using cached kiwisolver-1.3.2-cp38-cp38-macosx_10_9_x86_64.whl (61 kB)\n",
      "Requirement already satisfied: numpy>=1.17 in ./.venv/lib/python3.8/site-packages (from matplotlib) (1.22.2)\n",
      "Collecting cycler>=0.10\n",
      "  Using cached cycler-0.11.0-py3-none-any.whl (6.4 kB)\n",
      "Requirement already satisfied: packaging>=20.0 in ./.venv/lib/python3.8/site-packages (from matplotlib) (21.3)\n",
      "Requirement already satisfied: python-dateutil>=2.7 in ./.venv/lib/python3.8/site-packages (from matplotlib) (2.8.2)\n",
      "Collecting pillow>=6.2.0\n",
      "  Downloading Pillow-9.0.1-cp38-cp38-macosx_10_10_x86_64.whl (3.0 MB)\n",
      "\u001b[K     |████████████████████████████████| 3.0 MB 16.5 MB/s eta 0:00:01\n",
      "\u001b[?25hRequirement already satisfied: six>=1.5 in ./.venv/lib/python3.8/site-packages (from python-dateutil>=2.7->matplotlib) (1.16.0)\n",
      "Installing collected packages: fonttools, kiwisolver, cycler, pillow, matplotlib\n",
      "Successfully installed cycler-0.11.0 fonttools-4.29.1 kiwisolver-1.3.2 matplotlib-3.5.1 pillow-9.0.1\n",
      "\u001b[33mWARNING: You are using pip version 20.2.3; however, version 22.0.3 is available.\n",
      "You should consider upgrading via the '/Users/jess_hitchcock/Repos/inaturalist-analysis/.venv/bin/python3 -m pip install --upgrade pip' command.\u001b[0m\n"
     ]
    }
   ],
   "source": [
    "# Install Packages\n",
    "!pip install matplotlib\n",
    "import pandas as pd\n",
    "import geopandas as gpd\n",
    "import awswrangler as wr\n",
    "import datetime \n",
    "from IPython.display import Image\n",
    "import matplotlib.pyplot as plt"
   ]
  },
  {
   "cell_type": "markdown",
   "id": "98df3cc0",
   "metadata": {},
   "source": [
    "## iNaturalist Licensed Observation Image Data\n",
    "This dataset is comprised of the following files: \n",
    "- Taxa - a comprehensive list of taxon_ids for living organism observations\n",
    "- Observers - data about the user who made each observation\n",
    "- Observations - A record of individual observations of living organisms\n",
    "- Photos - photographs of observations \n",
    "\n",
    "Information about the available data can be found [in the iNaturalist Open Data GitHub repository](https://github.com/inaturalist/inaturalist-open-data).\n",
    "\n",
    "The image below shows the data model ([source](https://github.com/inaturalist/inaturalist-open-data))\n",
    "\n",
    "![iNaturalist Licensed Observation Images, sourced from \"https://github.com/inaturalist/inaturalist-open-data\"](images/inaturalist_open_data.png)\n",
    "\n",
    "\n",
    "For the purposes of this project we are only interested in the metadata files: \n",
    "- Taxa\n",
    "- Observers\n",
    "- Observations"
   ]
  },
  {
   "cell_type": "markdown",
   "id": "baa262bf",
   "metadata": {},
   "source": [
    "### iNaturalist Observation Data Exploration"
   ]
  },
  {
   "cell_type": "markdown",
   "id": "aeb4f84f",
   "metadata": {},
   "source": [
    "#### Step 1: Load the files from S3  "
   ]
  },
  {
   "cell_type": "code",
   "execution_count": 30,
   "id": "75efddc8",
   "metadata": {},
   "outputs": [],
   "source": [
    "observations = wr.s3.read_csv('s3://inaturalist-open-data/observations.csv.gz', compression='gzip', sep='\\t')"
   ]
  },
  {
   "cell_type": "code",
   "execution_count": 25,
   "id": "213acfdf",
   "metadata": {},
   "outputs": [],
   "source": [
    "observers = wr.s3.read_csv('s3://inaturalist-open-data/observers.csv.gz', compression='gzip', sep='\\t')"
   ]
  },
  {
   "cell_type": "code",
   "execution_count": 27,
   "id": "8ff2ee80",
   "metadata": {},
   "outputs": [],
   "source": [
    "taxa = wr.s3.read_csv('s3://inaturalist-open-data/taxa.csv.gz', compression='gzip', sep='\\t')"
   ]
  },
  {
   "cell_type": "markdown",
   "id": "fe2d6d0a",
   "metadata": {},
   "source": [
    "#### Step 2: Preview the data"
   ]
  },
  {
   "cell_type": "markdown",
   "id": "2adb0b88",
   "metadata": {},
   "source": [
    "##### Taxa\n",
    "This table consists of the following fields: \n",
    "- taxon_id: iNaturalist taxon identifier\n",
    "- ancestry: sequence of taxon_ids showing the ancestry of the taxon record\n",
    "- rank_level: a value used for ordering taxonomic groups \n",
    "- rank: the taxonomic group \n",
    "- name: scientific name \n",
    "- active: indicator of whether the taxon is active or not \n",
    "\n",
    "A taxonomic category or group, such as a phylum, order, family, genus, or species. \n",
    "This image shows some of the groups involved in a taxonomy hierachy ([source](https://en.wikipedia.org/wiki/Taxonomic_rank#/media/File:Taxonomic_Rank_Graph.svg)):"
   ]
  },
  {
   "cell_type": "code",
   "execution_count": 105,
   "id": "f1a6c41d",
   "metadata": {},
   "outputs": [
    {
     "data": {
      "text/html": [
       "<img src=\"images/Taxonomic_Rank_Graph.svg.png\" width=\"400\" height=\"400\"/>"
      ],
      "text/plain": [
       "<IPython.core.display.Image object>"
      ]
     },
     "execution_count": 105,
     "metadata": {},
     "output_type": "execute_result"
    }
   ],
   "source": [
    "Image(url= \"images/Taxonomic_Rank_Graph.svg.png\", width=400, height=400)"
   ]
  },
  {
   "cell_type": "code",
   "execution_count": 42,
   "id": "969b36f5",
   "metadata": {},
   "outputs": [
    {
     "data": {
      "text/plain": [
       "1311565"
      ]
     },
     "execution_count": 42,
     "metadata": {},
     "output_type": "execute_result"
    }
   ],
   "source": [
    "# determine the records in the taxa dataset \n",
    "len(taxa)"
   ]
  },
  {
   "cell_type": "code",
   "execution_count": 43,
   "id": "9ffe3b2c",
   "metadata": {},
   "outputs": [
    {
     "data": {
      "text/html": [
       "<div>\n",
       "<style scoped>\n",
       "    .dataframe tbody tr th:only-of-type {\n",
       "        vertical-align: middle;\n",
       "    }\n",
       "\n",
       "    .dataframe tbody tr th {\n",
       "        vertical-align: top;\n",
       "    }\n",
       "\n",
       "    .dataframe thead th {\n",
       "        text-align: right;\n",
       "    }\n",
       "</style>\n",
       "<table border=\"1\" class=\"dataframe\">\n",
       "  <thead>\n",
       "    <tr style=\"text-align: right;\">\n",
       "      <th></th>\n",
       "      <th>taxon_id</th>\n",
       "      <th>ancestry</th>\n",
       "      <th>rank_level</th>\n",
       "      <th>rank</th>\n",
       "      <th>name</th>\n",
       "      <th>active</th>\n",
       "    </tr>\n",
       "  </thead>\n",
       "  <tbody>\n",
       "    <tr>\n",
       "      <th>0</th>\n",
       "      <td>9318</td>\n",
       "      <td>48460/1/2/355675/3/7251/11989/9315</td>\n",
       "      <td>10.0</td>\n",
       "      <td>species</td>\n",
       "      <td>Icterus parisorum</td>\n",
       "      <td>True</td>\n",
       "    </tr>\n",
       "    <tr>\n",
       "      <th>1</th>\n",
       "      <td>8943</td>\n",
       "      <td>48460/1/2/355675/3/7251/980017</td>\n",
       "      <td>20.0</td>\n",
       "      <td>genus</td>\n",
       "      <td>Calyptura</td>\n",
       "      <td>True</td>\n",
       "    </tr>\n",
       "    <tr>\n",
       "      <th>2</th>\n",
       "      <td>5416</td>\n",
       "      <td>48460/1/2/355675/3/71261/5067/5414</td>\n",
       "      <td>10.0</td>\n",
       "      <td>species</td>\n",
       "      <td>Ictinia mississippiensis</td>\n",
       "      <td>True</td>\n",
       "    </tr>\n",
       "    <tr>\n",
       "      <th>3</th>\n",
       "      <td>7182</td>\n",
       "      <td>48460/1/2/355675/3/6888/6912/7181</td>\n",
       "      <td>10.0</td>\n",
       "      <td>species</td>\n",
       "      <td>Amazonetta brasiliensis</td>\n",
       "      <td>True</td>\n",
       "    </tr>\n",
       "    <tr>\n",
       "      <th>4</th>\n",
       "      <td>6584</td>\n",
       "      <td>48460/1/2/355675/3/67573/6544/6556</td>\n",
       "      <td>10.0</td>\n",
       "      <td>species</td>\n",
       "      <td>Chaetura spinicaudus</td>\n",
       "      <td>True</td>\n",
       "    </tr>\n",
       "  </tbody>\n",
       "</table>\n",
       "</div>"
      ],
      "text/plain": [
       "   taxon_id                            ancestry  rank_level     rank  \\\n",
       "0      9318  48460/1/2/355675/3/7251/11989/9315        10.0  species   \n",
       "1      8943      48460/1/2/355675/3/7251/980017        20.0    genus   \n",
       "2      5416  48460/1/2/355675/3/71261/5067/5414        10.0  species   \n",
       "3      7182   48460/1/2/355675/3/6888/6912/7181        10.0  species   \n",
       "4      6584  48460/1/2/355675/3/67573/6544/6556        10.0  species   \n",
       "\n",
       "                       name  active  \n",
       "0         Icterus parisorum    True  \n",
       "1                 Calyptura    True  \n",
       "2  Ictinia mississippiensis    True  \n",
       "3   Amazonetta brasiliensis    True  \n",
       "4      Chaetura spinicaudus    True  "
      ]
     },
     "execution_count": 43,
     "metadata": {},
     "output_type": "execute_result"
    }
   ],
   "source": [
    "# preview the fields\n",
    "taxa.head(5)"
   ]
  },
  {
   "cell_type": "code",
   "execution_count": 45,
   "id": "6c5c8399",
   "metadata": {},
   "outputs": [
    {
     "data": {
      "text/html": [
       "<div>\n",
       "<style scoped>\n",
       "    .dataframe tbody tr th:only-of-type {\n",
       "        vertical-align: middle;\n",
       "    }\n",
       "\n",
       "    .dataframe tbody tr th {\n",
       "        vertical-align: top;\n",
       "    }\n",
       "\n",
       "    .dataframe thead th {\n",
       "        text-align: right;\n",
       "    }\n",
       "</style>\n",
       "<table border=\"1\" class=\"dataframe\">\n",
       "  <thead>\n",
       "    <tr style=\"text-align: right;\">\n",
       "      <th></th>\n",
       "      <th>taxon_id</th>\n",
       "      <th>ancestry</th>\n",
       "      <th>rank_level</th>\n",
       "      <th>rank</th>\n",
       "      <th>name</th>\n",
       "      <th>active</th>\n",
       "    </tr>\n",
       "  </thead>\n",
       "  <tbody>\n",
       "    <tr>\n",
       "      <th>11357</th>\n",
       "      <td>20978</td>\n",
       "      <td>48460/1/2/355675</td>\n",
       "      <td>50.0</td>\n",
       "      <td>class</td>\n",
       "      <td>Amphibia</td>\n",
       "      <td>True</td>\n",
       "    </tr>\n",
       "  </tbody>\n",
       "</table>\n",
       "</div>"
      ],
      "text/plain": [
       "       taxon_id          ancestry  rank_level   rank      name  active\n",
       "11357     20978  48460/1/2/355675        50.0  class  Amphibia    True"
      ]
     },
     "execution_count": 45,
     "metadata": {},
     "output_type": "execute_result"
    }
   ],
   "source": [
    "# identify the taxon for ampbihia \n",
    "taxa[taxa['name'] == 'Amphibia']"
   ]
  },
  {
   "cell_type": "code",
   "execution_count": 63,
   "id": "d849ecbb",
   "metadata": {},
   "outputs": [
    {
     "data": {
      "text/html": [
       "<div>\n",
       "<style scoped>\n",
       "    .dataframe tbody tr th:only-of-type {\n",
       "        vertical-align: middle;\n",
       "    }\n",
       "\n",
       "    .dataframe tbody tr th {\n",
       "        vertical-align: top;\n",
       "    }\n",
       "\n",
       "    .dataframe thead th {\n",
       "        text-align: right;\n",
       "    }\n",
       "</style>\n",
       "<table border=\"1\" class=\"dataframe\">\n",
       "  <thead>\n",
       "    <tr style=\"text-align: right;\">\n",
       "      <th></th>\n",
       "      <th>taxon_id</th>\n",
       "      <th>ancestry</th>\n",
       "      <th>rank_level</th>\n",
       "      <th>rank</th>\n",
       "      <th>name</th>\n",
       "      <th>active</th>\n",
       "    </tr>\n",
       "  </thead>\n",
       "  <tbody>\n",
       "    <tr>\n",
       "      <th>10166</th>\n",
       "      <td>25078</td>\n",
       "      <td>48460/1/2/355675/20978/20979/24736/787573/25077</td>\n",
       "      <td>10.0</td>\n",
       "      <td>species</td>\n",
       "      <td>Gastrophryne carolinensis</td>\n",
       "      <td>True</td>\n",
       "    </tr>\n",
       "    <tr>\n",
       "      <th>10172</th>\n",
       "      <td>27116</td>\n",
       "      <td>48460/1/2/355675/20978/26718/26909/787564/27087</td>\n",
       "      <td>10.0</td>\n",
       "      <td>species</td>\n",
       "      <td>Eurycea junaluska</td>\n",
       "      <td>True</td>\n",
       "    </tr>\n",
       "    <tr>\n",
       "      <th>10176</th>\n",
       "      <td>24379</td>\n",
       "      <td>48460/1/2/355675/20978/20979/23540/787584/24374</td>\n",
       "      <td>10.0</td>\n",
       "      <td>species</td>\n",
       "      <td>Osteopilus dominicensis</td>\n",
       "      <td>True</td>\n",
       "    </tr>\n",
       "    <tr>\n",
       "      <th>10179</th>\n",
       "      <td>24169</td>\n",
       "      <td>48460/1/2/355675/20978/20979/64737/787580/24126</td>\n",
       "      <td>10.0</td>\n",
       "      <td>species</td>\n",
       "      <td>Gastrotheca fissipes</td>\n",
       "      <td>True</td>\n",
       "    </tr>\n",
       "    <tr>\n",
       "      <th>10183</th>\n",
       "      <td>27403</td>\n",
       "      <td>48460/1/2/355675/20978/26718/26909/787551/27380</td>\n",
       "      <td>10.0</td>\n",
       "      <td>species</td>\n",
       "      <td>Desmognathus folkertsi</td>\n",
       "      <td>True</td>\n",
       "    </tr>\n",
       "    <tr>\n",
       "      <th>...</th>\n",
       "      <td>...</td>\n",
       "      <td>...</td>\n",
       "      <td>...</td>\n",
       "      <td>...</td>\n",
       "      <td>...</td>\n",
       "      <td>...</td>\n",
       "    </tr>\n",
       "    <tr>\n",
       "      <th>1272938</th>\n",
       "      <td>1304878</td>\n",
       "      <td>48460/1/2/355675/20978/20979/25473/25474</td>\n",
       "      <td>10.0</td>\n",
       "      <td>species</td>\n",
       "      <td>Rana wuyiensis</td>\n",
       "      <td>True</td>\n",
       "    </tr>\n",
       "    <tr>\n",
       "      <th>1272939</th>\n",
       "      <td>1304882</td>\n",
       "      <td>48460/1/2/355675/20978/20979/787531/25222/25239</td>\n",
       "      <td>10.0</td>\n",
       "      <td>species</td>\n",
       "      <td>Assa wollumbin</td>\n",
       "      <td>True</td>\n",
       "    </tr>\n",
       "    <tr>\n",
       "      <th>1272940</th>\n",
       "      <td>1304880</td>\n",
       "      <td>48460/1/2/355675/20978/20979/24601/991960/24719</td>\n",
       "      <td>10.0</td>\n",
       "      <td>species</td>\n",
       "      <td>Leptobrachella purpura</td>\n",
       "      <td>True</td>\n",
       "    </tr>\n",
       "    <tr>\n",
       "      <th>1272941</th>\n",
       "      <td>1304879</td>\n",
       "      <td>48460/1/2/355675/20978/20979/24736/787567/25178</td>\n",
       "      <td>10.0</td>\n",
       "      <td>species</td>\n",
       "      <td>Micryletta menglienica</td>\n",
       "      <td>True</td>\n",
       "    </tr>\n",
       "    <tr>\n",
       "      <th>1308682</th>\n",
       "      <td>1347626</td>\n",
       "      <td>48460/1/2/355675/20978/26718/26909/787564/26911</td>\n",
       "      <td>10.0</td>\n",
       "      <td>species</td>\n",
       "      <td>Bolitoglossa qeqom</td>\n",
       "      <td>True</td>\n",
       "    </tr>\n",
       "  </tbody>\n",
       "</table>\n",
       "<p>8422 rows × 6 columns</p>\n",
       "</div>"
      ],
      "text/plain": [
       "         taxon_id                                         ancestry  \\\n",
       "10166       25078  48460/1/2/355675/20978/20979/24736/787573/25077   \n",
       "10172       27116  48460/1/2/355675/20978/26718/26909/787564/27087   \n",
       "10176       24379  48460/1/2/355675/20978/20979/23540/787584/24374   \n",
       "10179       24169  48460/1/2/355675/20978/20979/64737/787580/24126   \n",
       "10183       27403  48460/1/2/355675/20978/26718/26909/787551/27380   \n",
       "...           ...                                              ...   \n",
       "1272938   1304878         48460/1/2/355675/20978/20979/25473/25474   \n",
       "1272939   1304882  48460/1/2/355675/20978/20979/787531/25222/25239   \n",
       "1272940   1304880  48460/1/2/355675/20978/20979/24601/991960/24719   \n",
       "1272941   1304879  48460/1/2/355675/20978/20979/24736/787567/25178   \n",
       "1308682   1347626  48460/1/2/355675/20978/26718/26909/787564/26911   \n",
       "\n",
       "         rank_level     rank                       name  active  \n",
       "10166          10.0  species  Gastrophryne carolinensis    True  \n",
       "10172          10.0  species          Eurycea junaluska    True  \n",
       "10176          10.0  species    Osteopilus dominicensis    True  \n",
       "10179          10.0  species       Gastrotheca fissipes    True  \n",
       "10183          10.0  species     Desmognathus folkertsi    True  \n",
       "...             ...      ...                        ...     ...  \n",
       "1272938        10.0  species             Rana wuyiensis    True  \n",
       "1272939        10.0  species             Assa wollumbin    True  \n",
       "1272940        10.0  species     Leptobrachella purpura    True  \n",
       "1272941        10.0  species     Micryletta menglienica    True  \n",
       "1308682        10.0  species         Bolitoglossa qeqom    True  \n",
       "\n",
       "[8422 rows x 6 columns]"
      ]
     },
     "execution_count": 63,
     "metadata": {},
     "output_type": "execute_result"
    }
   ],
   "source": [
    "# return active amphibia species records  \n",
    "taxa.dropna(subset=['ancestry'], inplace=True)\n",
    "amphibia_taxa = taxa[taxa.ancestry.str.contains('20978', case=False)]\n",
    "active_amphibian_species = amphibia_taxa[(amphibia_taxa['rank'] == 'species') & (amphibia_taxa['active'] == True)]\n",
    "active_amphibian_species"
   ]
  },
  {
   "cell_type": "code",
   "execution_count": 97,
   "id": "4b3b6c1d",
   "metadata": {},
   "outputs": [],
   "source": [
    "amphibian_species_taxons = list(active_amphibian_species['taxon_id'].astype(int))"
   ]
  },
  {
   "cell_type": "markdown",
   "id": "f1480a70",
   "metadata": {},
   "source": [
    "**Taxon Ancestry** \n",
    "\n",
    "The `ancestry` field is complex in that the taxon ranks included can be different for different taxon_ids. \n",
    "Some species, for example, may be associated with a class and subclass groups while another is only associated with a class. This means that the if we read the ancestry field from left to right we can't be sure what taxon rank is at each position. \n",
    "\n",
    "In order to easily aggregate our data we will need to split out the ancestry field to enable reporting at different taxon rank levels e.g. if we want to know how many species are associated with the class Amphibia we would need an easy way to identify species associated with this class. "
   ]
  },
  {
   "cell_type": "code",
   "execution_count": 101,
   "id": "9f2c211a",
   "metadata": {},
   "outputs": [
    {
     "data": {
      "text/plain": [
       "array(['species', 'genus', 'family', 'order', 'phylum', 'kingdom',\n",
       "       'class', 'subspecies', 'complex', 'variety', 'form', 'hybrid',\n",
       "       'subgenus', 'subtribe', 'suborder', 'superfamily', 'subfamily',\n",
       "       'infraclass', 'subclass', 'tribe', 'superorder', 'zoosubsection',\n",
       "       'subphylum', 'zoosection', 'infraorder', 'section', 'epifamily',\n",
       "       'genushybrid', 'supertribe', 'parvorder', 'subkingdom',\n",
       "       'subterclass', 'infrahybrid', 'superclass', 'subsection'],\n",
       "      dtype=object)"
      ]
     },
     "execution_count": 101,
     "metadata": {},
     "output_type": "execute_result"
    }
   ],
   "source": [
    "# find distinct taxonomy ranks \n",
    "taxa['rank'].unique()"
   ]
  },
  {
   "cell_type": "markdown",
   "id": "b65048d0",
   "metadata": {},
   "source": [
    "##### Observations data\n",
    "The observations data includes the following: \n",
    "- A unique identifier for the observation \n",
    "- observer_id - identifier for the observer this will correspond to the observer_id in the observers table \n",
    "- co-oridinates of the observation \n",
    "- positional accuracy in metres (this tells us how confident we are that the location  of the observation)\n",
    "- taxon_id: the id of the taxon on iNaturalist (note a taxon is a taxonomic category or group, such as a phylum, order, family, genus, or species).\n",
    "- quality grade: e.g. three possible values: research_grade, needs_id and casual\n",
    "- observed_on: the date of the observation "
   ]
  },
  {
   "cell_type": "code",
   "execution_count": null,
   "id": "45e9dade",
   "metadata": {},
   "outputs": [],
   "source": [
    "# Determine the total number of observations \n",
    "len(observations)"
   ]
  },
  {
   "cell_type": "code",
   "execution_count": null,
   "id": "9955fd97",
   "metadata": {},
   "outputs": [],
   "source": [
    "# Preview the first few lines of data\n",
    "observations.head(5)"
   ]
  },
  {
   "cell_type": "code",
   "execution_count": null,
   "id": "f6e56202",
   "metadata": {},
   "outputs": [],
   "source": [
    "# Look at the different quality types\n",
    "observations['quality_grade'].unique()"
   ]
  },
  {
   "cell_type": "code",
   "execution_count": 98,
   "id": "1e4ad06d",
   "metadata": {},
   "outputs": [
    {
     "data": {
      "text/html": [
       "<div>\n",
       "<style scoped>\n",
       "    .dataframe tbody tr th:only-of-type {\n",
       "        vertical-align: middle;\n",
       "    }\n",
       "\n",
       "    .dataframe tbody tr th {\n",
       "        vertical-align: top;\n",
       "    }\n",
       "\n",
       "    .dataframe thead th {\n",
       "        text-align: right;\n",
       "    }\n",
       "</style>\n",
       "<table border=\"1\" class=\"dataframe\">\n",
       "  <thead>\n",
       "    <tr style=\"text-align: right;\">\n",
       "      <th></th>\n",
       "      <th>observation_uuid</th>\n",
       "      <th>observer_id</th>\n",
       "      <th>latitude</th>\n",
       "      <th>longitude</th>\n",
       "      <th>positional_accuracy</th>\n",
       "      <th>taxon_id</th>\n",
       "      <th>quality_grade</th>\n",
       "      <th>observed_on</th>\n",
       "    </tr>\n",
       "  </thead>\n",
       "  <tbody>\n",
       "  </tbody>\n",
       "</table>\n",
       "</div>"
      ],
      "text/plain": [
       "Empty DataFrame\n",
       "Columns: [observation_uuid, observer_id, latitude, longitude, positional_accuracy, taxon_id, quality_grade, observed_on]\n",
       "Index: []"
      ]
     },
     "execution_count": 98,
     "metadata": {},
     "output_type": "execute_result"
    }
   ],
   "source": [
    "# Count observation_records for amphibian species \n",
    "observations.dropna(subset=['taxon_id'], inplace=True)\n",
    "observations['taxon_id'] = observations['taxon_id'].astype(int)\n",
    "observations[observations['taxon_id'].isin([amphibian_species_taxons])]"
   ]
  },
  {
   "cell_type": "markdown",
   "id": "f5dc432f",
   "metadata": {},
   "source": [
    "##### Observers data\n",
    "The observers data includes the following fields: \n",
    "- oberver_id: identifier for the user who made the observation \n",
    "- login: user's login name\n",
    "- name: user's name\n",
    "\n",
    "In some cases we need to be careful with sharing user data, however, this data was sourced from an open dataset which means that this user information is already in the public domain. "
   ]
  },
  {
   "cell_type": "code",
   "execution_count": 99,
   "id": "2639054b",
   "metadata": {},
   "outputs": [
    {
     "data": {
      "text/plain": [
       "448026"
      ]
     },
     "execution_count": 99,
     "metadata": {},
     "output_type": "execute_result"
    }
   ],
   "source": [
    "# Determine the total number of observations \n",
    "len(observers)"
   ]
  },
  {
   "cell_type": "code",
   "execution_count": 100,
   "id": "c02f01a1",
   "metadata": {},
   "outputs": [
    {
     "data": {
      "text/html": [
       "<div>\n",
       "<style scoped>\n",
       "    .dataframe tbody tr th:only-of-type {\n",
       "        vertical-align: middle;\n",
       "    }\n",
       "\n",
       "    .dataframe tbody tr th {\n",
       "        vertical-align: top;\n",
       "    }\n",
       "\n",
       "    .dataframe thead th {\n",
       "        text-align: right;\n",
       "    }\n",
       "</style>\n",
       "<table border=\"1\" class=\"dataframe\">\n",
       "  <thead>\n",
       "    <tr style=\"text-align: right;\">\n",
       "      <th></th>\n",
       "      <th>observer_id</th>\n",
       "      <th>login</th>\n",
       "      <th>name</th>\n",
       "    </tr>\n",
       "  </thead>\n",
       "  <tbody>\n",
       "    <tr>\n",
       "      <th>0</th>\n",
       "      <td>1</td>\n",
       "      <td>kueda</td>\n",
       "      <td>Ken-ichi Ueda</td>\n",
       "    </tr>\n",
       "    <tr>\n",
       "      <th>1</th>\n",
       "      <td>8</td>\n",
       "      <td>tueda</td>\n",
       "      <td>NaN</td>\n",
       "    </tr>\n",
       "    <tr>\n",
       "      <th>2</th>\n",
       "      <td>28</td>\n",
       "      <td>tiwane</td>\n",
       "      <td>Tony Iwane</td>\n",
       "    </tr>\n",
       "    <tr>\n",
       "      <th>3</th>\n",
       "      <td>85</td>\n",
       "      <td>russiannaturalistbrazil</td>\n",
       "      <td>NaN</td>\n",
       "    </tr>\n",
       "    <tr>\n",
       "      <th>4</th>\n",
       "      <td>129</td>\n",
       "      <td>field_daze</td>\n",
       "      <td>Liv MW</td>\n",
       "    </tr>\n",
       "  </tbody>\n",
       "</table>\n",
       "</div>"
      ],
      "text/plain": [
       "   observer_id                    login           name\n",
       "0            1                    kueda  Ken-ichi Ueda\n",
       "1            8                    tueda            NaN\n",
       "2           28                   tiwane     Tony Iwane\n",
       "3           85  russiannaturalistbrazil            NaN\n",
       "4          129               field_daze         Liv MW"
      ]
     },
     "execution_count": 100,
     "metadata": {},
     "output_type": "execute_result"
    }
   ],
   "source": [
    "# Preview the first few lines of data\n",
    "observers.head(5)"
   ]
  },
  {
   "cell_type": "markdown",
   "id": "1425108d",
   "metadata": {},
   "source": [
    "## IUCN Red List of Threatened Species Spatial Data\n",
    "Users can download geospatial data for a range of living organisms from the IUCN Red List [website](https://www.iucnredlist.org/resources/spatial-data-download). \n",
    "\n",
    "Within the geospatial data, the IUCN Red List also assigns species to a red list category corresponding to their conservation status. \n",
    "\n",
    "The conservation status or IUCN Red List category types can be viewed in the image below ([source](https://www.iucn.org/resources/conservation-tools/iucn-red-list-threatened-species)):\n",
    "![IUCN Red List Categories](images/iucn_red_list_category.png)\n",
    "\n",
    "\n",
    "For the purposes of this project I have focused on Amphibian data so have uploaded the spatial data to my own AWS S3 bucket (s3://inaturalist-bucket).\n",
    "\n",
    "We can list the contents of the bucket by accessing it using the AWS CLI: "
   ]
  },
  {
   "cell_type": "code",
   "execution_count": 29,
   "id": "d1e39f0d",
   "metadata": {},
   "outputs": [
    {
     "name": "stdout",
     "output_type": "stream",
     "text": [
      "                           PRE amphibians/\r\n",
      "2022-01-25 16:49:44     500986 iNat_Amphibian_Reference.csv\r\n"
     ]
    }
   ],
   "source": [
    "!aws s3 ls s3://inaturalist-bucket"
   ]
  },
  {
   "cell_type": "markdown",
   "id": "fb1c3dc6",
   "metadata": {},
   "source": [
    "### GeoSpatial Data \n",
    "\n",
    "The IUCN Red List of Threatened Species Spatial Data comes in a shapefile format. \n",
    "\n",
    "Defintion of a [shapefile from Wikipedia](https://en.wikipedia.org/wiki/Shapefile)\n",
    ">The shapefile format is a geospatial vector data format for geographic information system (GIS) software. \n",
    ">The shapefile format can spatially describe vector features: points, lines, and polygons, representing, for example, water wells, rivers, and lakes. Each item usually has attributes that describe it, such as name or temperature. \n",
    "\n",
    "Each shapefile refers to a collection of files with a common filename prefix, stored in the same directory. The three mandatory files have filename extensions .shp, .shx, and .dbf. The actual shapefile relates specifically to the .shp file, but alone is incomplete for distribution as the other supporting files are required.\n",
    "\n",
    "Description of files associated with a shapefile: \n",
    "- .shp — the file that contains the geometry for all features \n",
    "- .shx — the file that indexes the geometry \n",
    "- .dbf — the file that stores feature attributes in tabular format \n",
    "- .prj - the file contains information on projection format including the coordinate system and projection information. It is a plain text file describing the projection using a well-known text (WKT) format \n",
    "- .sbn and .sbx the files that are spatial index of the features \n",
    "- .sahp.xml - the file that is the geospatial metadata in XML format\n",
    "\n",
    "I referred to [this article](https://www.earthdatascience.org/workshops/gis-open-source-python/intro-vector-data-python) to get started with shapefiles in Python. \n",
    "\n",
    "\n",
    "### GeoSpatial Data Exploration\n",
    "This geospatial file has records for different amphibian species. \n",
    "Some of the fields of interest include: \n",
    "- binomial: the scientific name for the species \n",
    "- compiler: who complied the geometry\n",
    "- yrcompiled: when the distribution was compiled\n",
    "- citation\n",
    "- taxonomy infomration such as subspecies, subpop, order, family, genus\n",
    "- category: the IUCN red list categorisation of the species\n",
    "- marine: whether the species is a marine species or not \n",
    "- terrestrial: whether the species is a terrestrial species or not \n",
    "- freshwater: whether the species is found in freshwater \n",
    "- geometry in the form of a polygon \n",
    "- shape length and area of the geometry\n"
   ]
  },
  {
   "cell_type": "code",
   "execution_count": 26,
   "id": "a8fdefae",
   "metadata": {},
   "outputs": [],
   "source": [
    "# Step 1: Use GeoPandas to read in the shapefile from the s3 bucket. \n",
    "geospatial_data = gpd.read_file('s3://inaturalist-bucket/amphibians/amphibians.shp')"
   ]
  },
  {
   "cell_type": "code",
   "execution_count": 106,
   "id": "221de3be",
   "metadata": {},
   "outputs": [
    {
     "data": {
      "text/html": [
       "<div>\n",
       "<style scoped>\n",
       "    .dataframe tbody tr th:only-of-type {\n",
       "        vertical-align: middle;\n",
       "    }\n",
       "\n",
       "    .dataframe tbody tr th {\n",
       "        vertical-align: top;\n",
       "    }\n",
       "\n",
       "    .dataframe thead th {\n",
       "        text-align: right;\n",
       "    }\n",
       "</style>\n",
       "<table border=\"1\" class=\"dataframe\">\n",
       "  <thead>\n",
       "    <tr style=\"text-align: right;\">\n",
       "      <th></th>\n",
       "      <th>id_no</th>\n",
       "      <th>binomial</th>\n",
       "      <th>presence</th>\n",
       "      <th>origin</th>\n",
       "      <th>seasonal</th>\n",
       "      <th>compiler</th>\n",
       "      <th>yrcompiled</th>\n",
       "      <th>citation</th>\n",
       "      <th>subspecies</th>\n",
       "      <th>subpop</th>\n",
       "      <th>...</th>\n",
       "      <th>order_</th>\n",
       "      <th>family</th>\n",
       "      <th>genus</th>\n",
       "      <th>category</th>\n",
       "      <th>marine</th>\n",
       "      <th>terrestial</th>\n",
       "      <th>freshwater</th>\n",
       "      <th>SHAPE_Leng</th>\n",
       "      <th>SHAPE_Area</th>\n",
       "      <th>geometry</th>\n",
       "    </tr>\n",
       "  </thead>\n",
       "  <tbody>\n",
       "    <tr>\n",
       "      <th>0</th>\n",
       "      <td>57264</td>\n",
       "      <td>Engystomops montubio</td>\n",
       "      <td>1</td>\n",
       "      <td>1</td>\n",
       "      <td>1</td>\n",
       "      <td>IUCN</td>\n",
       "      <td>2009</td>\n",
       "      <td>IUCN (International Union for Conservation of ...</td>\n",
       "      <td>None</td>\n",
       "      <td>None</td>\n",
       "      <td>...</td>\n",
       "      <td>ANURA</td>\n",
       "      <td>LEPTODACTYLIDAE</td>\n",
       "      <td>Engystomops</td>\n",
       "      <td>LC</td>\n",
       "      <td>false</td>\n",
       "      <td>true</td>\n",
       "      <td>true</td>\n",
       "      <td>5.755238</td>\n",
       "      <td>1.264393</td>\n",
       "      <td>POLYGON ((-80.59473 -1.00518, -80.57579 -0.948...</td>\n",
       "    </tr>\n",
       "    <tr>\n",
       "      <th>1</th>\n",
       "      <td>56133</td>\n",
       "      <td>Hyperolius ferreirai</td>\n",
       "      <td>1</td>\n",
       "      <td>1</td>\n",
       "      <td>1</td>\n",
       "      <td>IUCN</td>\n",
       "      <td>2014</td>\n",
       "      <td>IUCN (International Union for Conservation of ...</td>\n",
       "      <td>None</td>\n",
       "      <td>None</td>\n",
       "      <td>...</td>\n",
       "      <td>ANURA</td>\n",
       "      <td>HYPEROLIIDAE</td>\n",
       "      <td>Hyperolius</td>\n",
       "      <td>DD</td>\n",
       "      <td>false</td>\n",
       "      <td>true</td>\n",
       "      <td>true</td>\n",
       "      <td>0.420328</td>\n",
       "      <td>0.008667</td>\n",
       "      <td>POLYGON ((14.72465 -9.07726, 14.71390 -9.08009...</td>\n",
       "    </tr>\n",
       "    <tr>\n",
       "      <th>2</th>\n",
       "      <td>55856</td>\n",
       "      <td>Agalychnis medinae</td>\n",
       "      <td>4</td>\n",
       "      <td>1</td>\n",
       "      <td>1</td>\n",
       "      <td>Grisel Velasquez</td>\n",
       "      <td>2020</td>\n",
       "      <td>IUCN (International Union for the Conservation...</td>\n",
       "      <td>None</td>\n",
       "      <td>None</td>\n",
       "      <td>...</td>\n",
       "      <td>ANURA</td>\n",
       "      <td>PHYLLOMEDUSIDAE</td>\n",
       "      <td>Agalychnis</td>\n",
       "      <td>EN</td>\n",
       "      <td>false</td>\n",
       "      <td>true</td>\n",
       "      <td>true</td>\n",
       "      <td>0.370600</td>\n",
       "      <td>0.002628</td>\n",
       "      <td>POLYGON ((-67.68359 10.33905, -67.69001 10.336...</td>\n",
       "    </tr>\n",
       "  </tbody>\n",
       "</table>\n",
       "<p>3 rows × 29 columns</p>\n",
       "</div>"
      ],
      "text/plain": [
       "   id_no              binomial  presence  origin  seasonal          compiler  \\\n",
       "0  57264  Engystomops montubio         1       1         1              IUCN   \n",
       "1  56133  Hyperolius ferreirai         1       1         1              IUCN   \n",
       "2  55856    Agalychnis medinae         4       1         1  Grisel Velasquez   \n",
       "\n",
       "   yrcompiled                                           citation subspecies  \\\n",
       "0        2009  IUCN (International Union for Conservation of ...       None   \n",
       "1        2014  IUCN (International Union for Conservation of ...       None   \n",
       "2        2020  IUCN (International Union for the Conservation...       None   \n",
       "\n",
       "  subpop  ... order_           family        genus category  marine  \\\n",
       "0   None  ...  ANURA  LEPTODACTYLIDAE  Engystomops       LC   false   \n",
       "1   None  ...  ANURA     HYPEROLIIDAE   Hyperolius       DD   false   \n",
       "2   None  ...  ANURA  PHYLLOMEDUSIDAE   Agalychnis       EN   false   \n",
       "\n",
       "  terrestial freshwater SHAPE_Leng SHAPE_Area  \\\n",
       "0       true       true   5.755238   1.264393   \n",
       "1       true       true   0.420328   0.008667   \n",
       "2       true       true   0.370600   0.002628   \n",
       "\n",
       "                                            geometry  \n",
       "0  POLYGON ((-80.59473 -1.00518, -80.57579 -0.948...  \n",
       "1  POLYGON ((14.72465 -9.07726, 14.71390 -9.08009...  \n",
       "2  POLYGON ((-67.68359 10.33905, -67.69001 10.336...  \n",
       "\n",
       "[3 rows x 29 columns]"
      ]
     },
     "execution_count": 106,
     "metadata": {},
     "output_type": "execute_result"
    }
   ],
   "source": [
    "# preview the shapefile data \n",
    "geospatial_data.head(3)"
   ]
  },
  {
   "cell_type": "markdown",
   "id": "732a5a81",
   "metadata": {},
   "source": [
    "The total record count is 8798 but there are only 7204 species. \n",
    "Some species have multiple spatial geometry rows associated with them. \n",
    "This will need to be facored in when building the data model. "
   ]
  },
  {
   "cell_type": "code",
   "execution_count": 113,
   "id": "75593ef3",
   "metadata": {},
   "outputs": [
    {
     "data": {
      "text/plain": [
       "8798"
      ]
     },
     "execution_count": 113,
     "metadata": {},
     "output_type": "execute_result"
    }
   ],
   "source": [
    "# number of records \n",
    "len(geospatial_data)"
   ]
  },
  {
   "cell_type": "code",
   "execution_count": 114,
   "id": "71ce8011",
   "metadata": {},
   "outputs": [
    {
     "data": {
      "text/plain": [
       "7204"
      ]
     },
     "execution_count": 114,
     "metadata": {},
     "output_type": "execute_result"
    }
   ],
   "source": [
    "# number of unique records (species count) \n",
    "len(geospatial_data['binomial'].unique())"
   ]
  },
  {
   "cell_type": "markdown",
   "id": "a7ed7416",
   "metadata": {},
   "source": [
    "Test plotting the geometry fields"
   ]
  },
  {
   "cell_type": "code",
   "execution_count": 110,
   "id": "6cf1a2af",
   "metadata": {},
   "outputs": [
    {
     "data": {
      "text/plain": [
       "<AxesSubplot:>"
      ]
     },
     "execution_count": 110,
     "metadata": {},
     "output_type": "execute_result"
    },
    {
     "data": {
      "image/png": "[encoded data removed]",
      "text/plain": [
       "<Figure size 432x288 with 1 Axes>"
      ]
     },
     "metadata": {
      "needs_background": "light"
     },
     "output_type": "display_data"
    }
   ],
   "source": [
    "# Plot the geometries for the Amphibian order: Anura\n",
    "geospatial_data[geospatial_data['order_']=='ANURA'].plot()"
   ]
  },
  {
   "cell_type": "code",
   "execution_count": 112,
   "id": "7d8d9d93",
   "metadata": {},
   "outputs": [
    {
     "data": {
      "text/plain": [
       "<AxesSubplot:>"
      ]
     },
     "execution_count": 112,
     "metadata": {},
     "output_type": "execute_result"
    },
    {
     "data": {
      "image/png": "[encoded data removed]",
      "text/plain": [
       "<Figure size 432x288 with 1 Axes>"
      ]
     },
     "metadata": {
      "needs_background": "light"
     },
     "output_type": "display_data"
    }
   ],
   "source": [
    "# Geospatial visualisation of the region in which the species Agalychnis medinae is found \n",
    "geospatial_data[geospatial_data['binomial']==\"Agalychnis medinae\"].plot()"
   ]
  }
 ],
 "metadata": {
  "kernelspec": {
   "display_name": "Python 3 (ipykernel)",
   "language": "python",
   "name": "python3"
  },
  "language_info": {
   "codemirror_mode": {
    "name": "ipython",
    "version": 3
   },
   "file_extension": ".py",
   "mimetype": "text/x-python",
   "name": "python",
   "nbconvert_exporter": "python",
   "pygments_lexer": "ipython3",
   "version": "3.8.8"
  }
 },
 "nbformat": 4,
 "nbformat_minor": 5
}
