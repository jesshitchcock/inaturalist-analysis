{
 "cells": [
  {
   "cell_type": "code",
   "execution_count": null,
   "id": "5fceb315",
   "metadata": {},
   "outputs": [],
   "source": [
    "#!pip install redshift_connector"
   ]
  },
  {
   "cell_type": "code",
   "execution_count": 15,
   "id": "e2dde317",
   "metadata": {},
   "outputs": [],
   "source": [
    "# Import packages\n",
    "import redshift_connector\n",
    "import getpass\n",
    "import awswrangler as wr\n",
    "import matplotlib.pyplot as plot\n",
    "import pandas as pd"
   ]
  },
  {
   "cell_type": "markdown",
   "id": "02d66c82",
   "metadata": {},
   "source": [
    "## Data Distribution Exploratory Data Analysis\n",
    "### Step 1: Enter the Redshift Database Credentials. \n",
    "These will be the same credentials used in the Airflow UI to connect to the redshift cluster: "
   ]
  },
  {
   "cell_type": "code",
   "execution_count": 2,
   "id": "4916bffd",
   "metadata": {},
   "outputs": [
    {
     "name": "stdout",
     "output_type": "stream",
     "text": [
      "Enter the redshift endpoint URL\n",
      "········\n",
      "Enter the redshift username\n",
      "········\n",
      "Enter the redshift password\n",
      "········\n",
      "Enter the redshift port number\n",
      "········\n",
      "Enter the db name\n",
      "········\n"
     ]
    }
   ],
   "source": [
    "print('Enter the redshift endpoint URL')\n",
    "redshift_endpoint = getpass.getpass()\n",
    "print('Enter the redshift username')\n",
    "redshift_username = getpass.getpass()\n",
    "print('Enter the redshift password')\n",
    "redshift_password = getpass.getpass()\n",
    "print('Enter the redshift port number')\n",
    "redshift_port = getpass.getpass()\n",
    "print(\"Enter the db name\")\n",
    "redshift_dbname = getpass.getpass()"
   ]
  },
  {
   "cell_type": "markdown",
   "id": "007096d7",
   "metadata": {},
   "source": [
    "### Step 2: Query the redshift database\n",
    "This is a multi step process. \n",
    "1. Create a connection with the database using the credentials added during step 1\n",
    "2. Use awswrangler to pass a SQL query through to redshift and save this in a variable\n",
    "3. Close the connection"
   ]
  },
  {
   "cell_type": "markdown",
   "id": "96f6b8a6",
   "metadata": {},
   "source": [
    "# Fact Table Distribution Analysis\n",
    "In this next section we will look at how best to distribute the observation fact across the Redshift cluster nodes. I We will assess the distribution of the observations by: \n",
    "1. Counting the toal observations for Amphibia\n",
    "2. Showing observation distribution per Amphibia taxon_id\n",
    "3. Showing Amphibian observation data per month \n",
    "4. Showing Amphibian observation data per date\n"
   ]
  },
  {
   "cell_type": "markdown",
   "id": "7d4087bc",
   "metadata": {},
   "source": [
    "## 1. Count Total Amphibian Observations"
   ]
  },
  {
   "cell_type": "code",
   "execution_count": 166,
   "id": "8831b046",
   "metadata": {},
   "outputs": [
    {
     "name": "stdout",
     "output_type": "stream",
     "text": [
      "The filtered observation table contains 560494 Amphibian observations\n"
     ]
    }
   ],
   "source": [
    "\n",
    "#1. create a connection with redshift \n",
    "con = redshift_connector.connect(host=redshift_endpoint,\n",
    "                                 database=redshift_dbname,\n",
    "                                 user=redshift_username,\n",
    "                                 password=redshift_password)\n",
    "\n",
    "#2. run a SQL query\n",
    "df = wr.redshift.read_sql_query(\n",
    "        sql = \"\"\"\n",
    "        select \n",
    "            count(*) as records\n",
    "        from \n",
    "            staging.observations_view\"\"\", \n",
    "        con=con)\n",
    "\n",
    "#3. close the connection \n",
    "con.close()\n",
    "\n",
    "# convert dataframe to a pandas dataframe \n",
    "val = df['records'].iloc[0].astype(str)\n",
    "print(f'The filtered observation table contains {val} Amphibian observations')"
   ]
  },
  {
   "cell_type": "markdown",
   "id": "d5655075",
   "metadata": {},
   "source": [
    "## 2. Observation distribution per Amphibia taxon_id"
   ]
  },
  {
   "cell_type": "code",
   "execution_count": 167,
   "id": "076f06a0",
   "metadata": {},
   "outputs": [],
   "source": [
    "# Let's spreview the staging data for taxa. \n",
    "#1. create a connection with redshift \n",
    "con = redshift_connector.connect(host=redshift_endpoint,\n",
    "                                 database=redshift_dbname,\n",
    "                                 user=redshift_username,\n",
    "                                 password=redshift_password)\n",
    "\n",
    "#2. run a SQL query\n",
    "taxon_df = wr.redshift.read_sql_query(\n",
    "        sql = \"\"\"\n",
    "        select \n",
    "            count(*) as records, \n",
    "            taxon_id \n",
    "        from \n",
    "            staging.observations_view     \n",
    "    where observed_on >= '2015-01-01'\n",
    "        group by \n",
    "            taxon_id\"\"\", \n",
    "        con=con)\n",
    "\n",
    "#3. close the connection \n",
    "con.close()\n",
    "\n",
    "# convert dataframe to a pandas dataframe \n",
    "taxon_df = pd.DataFrame(taxon_df)"
   ]
  },
  {
   "cell_type": "code",
   "execution_count": 168,
   "id": "2233678e",
   "metadata": {},
   "outputs": [
    {
     "data": {
      "text/html": [
       "<div>\n",
       "<style scoped>\n",
       "    .dataframe tbody tr th:only-of-type {\n",
       "        vertical-align: middle;\n",
       "    }\n",
       "\n",
       "    .dataframe tbody tr th {\n",
       "        vertical-align: top;\n",
       "    }\n",
       "\n",
       "    .dataframe thead th {\n",
       "        text-align: right;\n",
       "    }\n",
       "</style>\n",
       "<table border=\"1\" class=\"dataframe\">\n",
       "  <thead>\n",
       "    <tr style=\"text-align: right;\">\n",
       "      <th></th>\n",
       "      <th>records</th>\n",
       "      <th>taxon_id</th>\n",
       "    </tr>\n",
       "  </thead>\n",
       "  <tbody>\n",
       "    <tr>\n",
       "      <th>0</th>\n",
       "      <td>12266</td>\n",
       "      <td>65849</td>\n",
       "    </tr>\n",
       "    <tr>\n",
       "      <th>1</th>\n",
       "      <td>755</td>\n",
       "      <td>476245</td>\n",
       "    </tr>\n",
       "    <tr>\n",
       "      <th>2</th>\n",
       "      <td>18108</td>\n",
       "      <td>27186</td>\n",
       "    </tr>\n",
       "    <tr>\n",
       "      <th>3</th>\n",
       "      <td>1965</td>\n",
       "      <td>22631</td>\n",
       "    </tr>\n",
       "    <tr>\n",
       "      <th>4</th>\n",
       "      <td>12764</td>\n",
       "      <td>27805</td>\n",
       "    </tr>\n",
       "  </tbody>\n",
       "</table>\n",
       "</div>"
      ],
      "text/plain": [
       "   records  taxon_id\n",
       "0    12266     65849\n",
       "1      755    476245\n",
       "2    18108     27186\n",
       "3     1965     22631\n",
       "4    12764     27805"
      ]
     },
     "execution_count": 168,
     "metadata": {},
     "output_type": "execute_result"
    }
   ],
   "source": [
    "taxon_df.head(5)"
   ]
  },
  {
   "cell_type": "code",
   "execution_count": 169,
   "id": "c8d60994",
   "metadata": {},
   "outputs": [
    {
     "data": {
      "image/png": "[encoded data removed]",
      "text/plain": [
       "<Figure size 432x288 with 1 Axes>"
      ]
     },
     "metadata": {
      "needs_background": "light"
     },
     "output_type": "display_data"
    }
   ],
   "source": [
    "plot.hist(taxon_df['records'], bins=50)\n",
    "plot.gca().set(title='Amphibia Taxon Observation Frequency Histogram', ylabel='Frequency');"
   ]
  },
  {
   "cell_type": "markdown",
   "id": "e958a805",
   "metadata": {},
   "source": [
    "## 3. Amphibian observation data distribution by month "
   ]
  },
  {
   "cell_type": "code",
   "execution_count": 170,
   "id": "cd460c12",
   "metadata": {},
   "outputs": [],
   "source": [
    "# Let's preview the staging data for taxa. \n",
    "#1. create a connection with redshift \n",
    "con = redshift_connector.connect(host=redshift_endpoint,\n",
    "                                 database=redshift_dbname,\n",
    "                                 user=redshift_username,\n",
    "                                 password=redshift_password)\n",
    "\n",
    "#2. run a SQL query\n",
    "month_df = wr.redshift.read_sql_query(\n",
    "\"\"\"\n",
    "    select \n",
    "        count(*) as total_observations, \n",
    "        DATE_TRUNC('month', observed_on) as month \n",
    "    from \n",
    "        staging.observations_view\n",
    "    where observed_on >= '2015-01-01'\n",
    "    group by month\"\"\", \n",
    "        con=con)\n",
    "\n",
    "#3. close the connection \n",
    "con.close()\n",
    "\n",
    "# convert dataframe to a pandas dataframe \n",
    "month_df = pd.DataFrame(month_df)"
   ]
  },
  {
   "cell_type": "code",
   "execution_count": 133,
   "id": "9efb391d",
   "metadata": {},
   "outputs": [
    {
     "data": {
      "text/html": [
       "<div>\n",
       "<style scoped>\n",
       "    .dataframe tbody tr th:only-of-type {\n",
       "        vertical-align: middle;\n",
       "    }\n",
       "\n",
       "    .dataframe tbody tr th {\n",
       "        vertical-align: top;\n",
       "    }\n",
       "\n",
       "    .dataframe thead th {\n",
       "        text-align: right;\n",
       "    }\n",
       "</style>\n",
       "<table border=\"1\" class=\"dataframe\">\n",
       "  <thead>\n",
       "    <tr style=\"text-align: right;\">\n",
       "      <th></th>\n",
       "      <th>records</th>\n",
       "      <th>month</th>\n",
       "    </tr>\n",
       "  </thead>\n",
       "  <tbody>\n",
       "    <tr>\n",
       "      <th>0</th>\n",
       "      <td>3119</td>\n",
       "      <td>2016-05-01</td>\n",
       "    </tr>\n",
       "    <tr>\n",
       "      <th>1</th>\n",
       "      <td>14859</td>\n",
       "      <td>2020-09-01</td>\n",
       "    </tr>\n",
       "    <tr>\n",
       "      <th>2</th>\n",
       "      <td>1398</td>\n",
       "      <td>2015-09-01</td>\n",
       "    </tr>\n",
       "    <tr>\n",
       "      <th>3</th>\n",
       "      <td>1258</td>\n",
       "      <td>2015-10-01</td>\n",
       "    </tr>\n",
       "    <tr>\n",
       "      <th>4</th>\n",
       "      <td>6</td>\n",
       "      <td>1989-04-01</td>\n",
       "    </tr>\n",
       "  </tbody>\n",
       "</table>\n",
       "</div>"
      ],
      "text/plain": [
       "   records      month\n",
       "0     3119 2016-05-01\n",
       "1    14859 2020-09-01\n",
       "2     1398 2015-09-01\n",
       "3     1258 2015-10-01\n",
       "4        6 1989-04-01"
      ]
     },
     "execution_count": 133,
     "metadata": {},
     "output_type": "execute_result"
    }
   ],
   "source": [
    "month_df.head(5)"
   ]
  },
  {
   "cell_type": "code",
   "execution_count": 171,
   "id": "1f189463",
   "metadata": {},
   "outputs": [
    {
     "data": {
      "image/png": "[encoded data removed]",
      "text/plain": [
       "<Figure size 432x288 with 1 Axes>"
      ]
     },
     "metadata": {
      "needs_background": "light"
     },
     "output_type": "display_data"
    }
   ],
   "source": [
    "plot.hist(month_df['total_observations'], bins=50)\n",
    "plot.gca().set(title='Month Observation Frequency Histogram', ylabel='Frequency');"
   ]
  },
  {
   "cell_type": "markdown",
   "id": "f8cd0840",
   "metadata": {},
   "source": [
    "## 4. Amphibian observation data distribution by date "
   ]
  },
  {
   "cell_type": "code",
   "execution_count": 172,
   "id": "66ae6e87",
   "metadata": {},
   "outputs": [],
   "source": [
    "# Let's preview the staging data for taxa. \n",
    "#1. create a connection with redshift \n",
    "con = redshift_connector.connect(host=redshift_endpoint,\n",
    "                                 database=redshift_dbname,\n",
    "                                 user=redshift_username,\n",
    "                                 password=redshift_password)\n",
    "\n",
    "#2. run a SQL query\n",
    "day_df = wr.redshift.read_sql_query(\n",
    "\"\"\"\n",
    "    select \n",
    "        count(*) as total_observations, \n",
    "        observed_on \n",
    "    from \n",
    "        staging.observations_view\n",
    "    where observed_on >= '2015-01-01'\n",
    "    group by observed_on\"\"\", \n",
    "        con=con)\n",
    "\n",
    "#3. close the connection \n",
    "con.close()\n",
    "\n",
    "# convert dataframe to a pandas dataframe \n",
    "day_df = pd.DataFrame(day_df)"
   ]
  },
  {
   "cell_type": "code",
   "execution_count": 174,
   "id": "7c5e5d12",
   "metadata": {},
   "outputs": [
    {
     "data": {
      "image/png": "[encoded data removed]",
      "text/plain": [
       "<Figure size 432x288 with 1 Axes>"
      ]
     },
     "metadata": {
      "needs_background": "light"
     },
     "output_type": "display_data"
    }
   ],
   "source": [
    "plot.hist(day_df['total_observations'], bins=50)\n",
    "plot.gca().set(title='Date Observation Frequency Histogram', ylabel='Frequency');"
   ]
  },
  {
   "cell_type": "markdown",
   "id": "2b89f50a",
   "metadata": {},
   "source": [
    "# Conclusion \n",
    "The taxon distribution is heavily skewed by a few Amphibian species with many observations. \n",
    "This does not make the `taxon_id` a good candidate for the distribution key as the data would be unevenly distributed across cluster nodes. \n",
    "\n",
    "The observation distributions by month and date look better but aren't ideal either. However, as the iNaturalist platform increases in popularity, there will be more users contributing towards observations. With this in mind, I will distribute the `observations` table data across cluster nodes using the `observed_on` column."
   ]
  }
 ],
 "metadata": {
  "kernelspec": {
   "display_name": "Python 3 (ipykernel)",
   "language": "python",
   "name": "python3"
  },
  "language_info": {
   "codemirror_mode": {
    "name": "ipython",
    "version": 3
   },
   "file_extension": ".py",
   "mimetype": "text/x-python",
   "name": "python",
   "nbconvert_exporter": "python",
   "pygments_lexer": "ipython3",
   "version": "3.8.8"
  }
 },
 "nbformat": 4,
 "nbformat_minor": 5
}
